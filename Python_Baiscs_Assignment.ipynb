{
  "nbformat": 4,
  "nbformat_minor": 0,
  "metadata": {
    "colab": {
      "provenance": []
    },
    "kernelspec": {
      "name": "python3",
      "display_name": "Python 3"
    },
    "language_info": {
      "name": "python"
    }
  },
  "cells": [
    {
      "cell_type": "markdown",
      "source": [
        "**1.Explain the features of Python that make it a popular choice for  programming?**\n",
        "\n",
        " The features of Python that make it a popular choice for  programming as follow as:\n",
        "\n",
        " Simple Syntax: Easy to read and write, great for beginners.\n",
        "\n",
        "Interpreted: Runs without compilation, enabling fast development.\n",
        "\n",
        "Cross-Platform: Works on various operating systems without changes.\n",
        "\n",
        "Large Standard Library: Built-in modules for common tasks.\n",
        "\n",
        "Vast Ecosystem: Many libraries and frameworks for diverse applications.\n",
        "\n",
        "Versatility: Used in web dev, data science, AI, and more.\n",
        "\n",
        "Supports OOP & Functional: Flexible in programming styles.\n",
        "\n",
        "Dynamic Typing: No need to declare variable types.\n",
        "\n",
        "Integration: Works well with other languages like C, C++, and Java.\n",
        "\n",
        "Machine Learning & Data Science: Rich libraries for AI and data."
      ],
      "metadata": {
        "id": "O5llfyMUQ16J"
      }
    },
    {
      "cell_type": "markdown",
      "source": [
        "**2.Describe the role of predefined keywords in python and provide examples of how they are used in a program?**\n"
      ],
      "metadata": {
        "id": "6zixinxSRxSi"
      }
    },
    {
      "cell_type": "code",
      "source": [
        "# Predefined words are also known as reserved words are words that have special meaning in the language's syntax. These keywords are used to define the structure and behavior of the program, and they cannot be used as identifiers (such as variable names or function names).\n",
        "# Role and usage of some important Python keywords:\n",
        "\n",
        "#1)Control Flow:\n",
        "#if, else, elif: Used for conditional statements.\n",
        "age = 20\n",
        "if age > 18:\n",
        "    print(\"Yoy are Adult\")\n",
        "else:\n",
        "    print(\"You are Minor\")\n"
      ],
      "metadata": {
        "colab": {
          "base_uri": "https://localhost:8080/"
        },
        "id": "r-a7AlwORS1-",
        "outputId": "db539a14-c530-462f-dfdd-e95758ea235c"
      },
      "execution_count": 50,
      "outputs": [
        {
          "output_type": "stream",
          "name": "stdout",
          "text": [
            "Yoy are Adult\n"
          ]
        }
      ]
    },
    {
      "cell_type": "code",
      "source": [
        "#2)Loops:\n",
        "#for, while, break, continue: Used for loop control.\n",
        "for i in range(5):\n",
        "    if i == 3:\n",
        "        break\n",
        "    print(i)"
      ],
      "metadata": {
        "colab": {
          "base_uri": "https://localhost:8080/"
        },
        "id": "DLfNshv5SZP3",
        "outputId": "c51a7c72-a4a8-446d-b463-e52f32cb9c9f"
      },
      "execution_count": 2,
      "outputs": [
        {
          "output_type": "stream",
          "name": "stdout",
          "text": [
            "0\n",
            "1\n",
            "2\n"
          ]
        }
      ]
    },
    {
      "cell_type": "code",
      "source": [
        "#3)Logical Operators:\n",
        "#and, or, not: Used to combine or negate conditions.\n",
        "\n",
        "age = 20\n",
        "if age > 18 and has_license:\n",
        "    print(\"Can drive\")"
      ],
      "metadata": {
        "id": "QBqDo9Rwge-b"
      },
      "execution_count": null,
      "outputs": []
    },
    {
      "cell_type": "code",
      "source": [
        "#4)Variable Assignment:\n",
        "#True, False, None: Used to represent boolean values and null.\n",
        "\n",
        "is_valid = True\n"
      ],
      "metadata": {
        "id": "UZWW8kdvTH6W"
      },
      "execution_count": 3,
      "outputs": []
    },
    {
      "cell_type": "code",
      "source": [
        "#6)\n",
        "print()\n",
        "#input function actually takes every value from user as a string."
      ],
      "metadata": {
        "colab": {
          "base_uri": "https://localhost:8080/"
        },
        "id": "ZJicbD_3TUlr",
        "outputId": "8ddca9ca-0e90-4eb1-ac2f-d333f0b75cea"
      },
      "execution_count": 4,
      "outputs": [
        {
          "output_type": "stream",
          "name": "stdout",
          "text": [
            "\n"
          ]
        }
      ]
    },
    {
      "cell_type": "markdown",
      "source": [
        "**3.Compare and contract mutable and immutable objects in python with examples?**\n",
        "\n",
        "Mutable means  we can change the object values after the creation.\n",
        "Examples are lists, dictionaries, sets.\n",
        "\n",
        "1)list:List is organized collection of data.\n",
        "\n",
        "List is can store heterogeneous data means can store any data type."
      ],
      "metadata": {
        "id": "rnG2GKOvTga3"
      }
    },
    {
      "cell_type": "code",
      "source": [
        "my_list = [1, 2, 3]\n",
        "print(id(my_list))  # Memory location before change\n",
        "my_list[0] = 100    # Modifying the list\n",
        "print(id(my_list))  # Memory location after change (same as before)\n",
        "print(my_list)      # Output: [100, 2, 3]\n"
      ],
      "metadata": {
        "colab": {
          "base_uri": "https://localhost:8080/"
        },
        "id": "uKh1FymrTuO_",
        "outputId": "e5161b6e-e30c-4b52-de98-c4c03b1a8b38"
      },
      "execution_count": 5,
      "outputs": [
        {
          "output_type": "stream",
          "name": "stdout",
          "text": [
            "137724869867648\n",
            "137724869867648\n",
            "[100, 2, 3]\n"
          ]
        }
      ]
    },
    {
      "cell_type": "markdown",
      "source": [
        "**2)Dictionaries:** Dictionary is a data structure that can store data as key value pairs.\n",
        "code:"
      ],
      "metadata": {
        "id": "B7HutOgVUkrm"
      }
    },
    {
      "cell_type": "code",
      "source": [
        "dict={\"name\":\"Ajith\",\"phone\":1234}# inintialize and declaring dictionary\n",
        "{\"name\":\"teja\",\"phone\":1234} #before modifying dictionary\n",
        "dict[\"name\"]=\"Ajith\"\n",
        "{\"name\":\"Ajith\",\"phone\":1234} # after  modifying dictionary\n"
      ],
      "metadata": {
        "colab": {
          "base_uri": "https://localhost:8080/"
        },
        "id": "VEdr560EUdYm",
        "outputId": "ac228ca2-61fa-4d27-c9d2-af21095288b3"
      },
      "execution_count": 7,
      "outputs": [
        {
          "output_type": "execute_result",
          "data": {
            "text/plain": [
              "{'name': 'Ajith', 'phone': 1234}"
            ]
          },
          "metadata": {},
          "execution_count": 7
        }
      ]
    },
    {
      "cell_type": "markdown",
      "source": [
        "**3)Sets :** sets are unordered  and unique collection of elements\n",
        "code:"
      ],
      "metadata": {
        "id": "Lg8iZW9_U7uK"
      }
    },
    {
      "cell_type": "code",
      "source": [
        "s = {5, 6}\n",
        "s.add(100)  #add a value into set.\n",
        "s"
      ],
      "metadata": {
        "colab": {
          "base_uri": "https://localhost:8080/"
        },
        "id": "OeWfyH3vWMqv",
        "outputId": "1dd87de7-8bba-488e-efa5-07df73aad77e"
      },
      "execution_count": 23,
      "outputs": [
        {
          "output_type": "execute_result",
          "data": {
            "text/plain": [
              "{5, 6, 100}"
            ]
          },
          "metadata": {},
          "execution_count": 23
        }
      ]
    },
    {
      "cell_type": "code",
      "source": [
        "s.pop()  # It removes a random value into set."
      ],
      "metadata": {
        "colab": {
          "base_uri": "https://localhost:8080/"
        },
        "id": "jeH24iIlWW-5",
        "outputId": "8098e12c-c8c1-48ae-dcdf-b16d6fd3481e"
      },
      "execution_count": 24,
      "outputs": [
        {
          "output_type": "execute_result",
          "data": {
            "text/plain": [
              "100"
            ]
          },
          "metadata": {},
          "execution_count": 24
        }
      ]
    },
    {
      "cell_type": "code",
      "source": [
        "s"
      ],
      "metadata": {
        "colab": {
          "base_uri": "https://localhost:8080/"
        },
        "id": "j1WldLbTWig6",
        "outputId": "ef5d164d-315c-4b27-c725-7599ec7442fe"
      },
      "execution_count": 25,
      "outputs": [
        {
          "output_type": "execute_result",
          "data": {
            "text/plain": [
              "{5, 6}"
            ]
          },
          "metadata": {},
          "execution_count": 25
        }
      ]
    },
    {
      "cell_type": "markdown",
      "source": [
        "Immutable means can't change the object values after the creation.\n",
        "Examples:Strings, tuples, frozen sets.\n",
        "\n",
        "1)String: string is a collection of characters."
      ],
      "metadata": {
        "id": "W979STutWq5x"
      }
    },
    {
      "cell_type": "code",
      "source": [
        "name= \"code\"\n",
        "name[1]=\"T\"# throws a error\n",
        "#2)Tuples: tuple is a organnised collection of data .\n",
        "#it is can store heterogeneous data means can store any data type .\n",
        "#3)frozen sets: immutable version of set\n",
        "my_fs=frozenset([1,2,3])"
      ],
      "metadata": {
        "id": "Uc17JI4YW6Zc"
      },
      "execution_count": null,
      "outputs": []
    },
    {
      "cell_type": "markdown",
      "source": [
        "**4.Discuss the different type of operators in python and provide examples of how they are used?**\n",
        "\n",
        "Python supports several types of operators used to perform operations on variables and values. Here are the key types of operators along with examples of how they are used:\n",
        "\n",
        "\n",
        "1.Arithmetic Operators\n",
        "These are used to perform basic mathematical operations.\n",
        "\n",
        "Operator\tDescription  \t        Example\n",
        "+\t        Addition\t           5 + 3 = 8\n",
        "-\t        Subtraction\t         10 - 2 = 8\n",
        "*\t        Multiplication\t     4 * 3 = 12\n",
        "\n",
        "/\t        Division        10 / 2 = 5.0\n",
        "\n",
        "%\t        Modulus(Remainder)   10 % 3 = 1\n",
        "\n",
        "**\t      Exponentiation\t    2 ** 3 = 8\n",
        "\n",
        "//\t      Floor Division\t   10 // 3 = 3"
      ],
      "metadata": {
        "id": "Qvq_ZZobW7kY"
      }
    },
    {
      "cell_type": "code",
      "source": [
        "a = 9\n",
        "b = 3\n",
        "print(a + b)  # Output: 12\n",
        "print(a // b)  # Output: 3 (floor division)"
      ],
      "metadata": {
        "colab": {
          "base_uri": "https://localhost:8080/"
        },
        "id": "MjXzxfQfXwcl",
        "outputId": "8806362e-1ded-480a-9db1-31543d542272"
      },
      "execution_count": 26,
      "outputs": [
        {
          "output_type": "stream",
          "name": "stdout",
          "text": [
            "12\n",
            "3\n"
          ]
        }
      ]
    },
    {
      "cell_type": "markdown",
      "source": [
        "2.Comparison (Relational) Operators\n",
        "these compare two values and return a boolean result (True or False).\n",
        "\n",
        "Operator\tDescription\t        Example\n",
        "\n",
        "==\t       Equal to\t        5 == 5 # True\n",
        "\n",
        "!=       \tNot equal to  \t  5 != 3 # True\n",
        "\n",
        ">\t        Greater than  \t  5 > 3 # True\n",
        "\n",
        "<\t        Less than     \t  5 < 3 # False\n",
        "\n",
        ">=       \tGreater or equal\t5 >= 3 # True\n",
        "\n",
        "<=\t       Less or equal\t  5 <= 5 # True"
      ],
      "metadata": {
        "id": "ZLQ3r0GaYcwG"
      }
    },
    {
      "cell_type": "code",
      "source": [
        "x = 11\n",
        "y = 7\n",
        "print(x > y)  # Output: True\n",
        "print(x == y)  # Output: False"
      ],
      "metadata": {
        "colab": {
          "base_uri": "https://localhost:8080/"
        },
        "id": "AA8U0FayYlY5",
        "outputId": "dd2e60d9-8342-48eb-9599-be370bde0928"
      },
      "execution_count": 28,
      "outputs": [
        {
          "output_type": "stream",
          "name": "stdout",
          "text": [
            "True\n",
            "False\n"
          ]
        }
      ]
    },
    {
      "cell_type": "markdown",
      "source": [
        "3.Assignment Operators\n",
        "These are used to assign values to variables.\n",
        "\n",
        "\n",
        "Operator\t  Description\t          Example\n",
        "=\t            Assign\t              x = 5\n",
        "\n",
        "+=\t        Add and assign\t    x += 3 # x = x + 3\n",
        "\n",
        "-=\t        Subtract and assign\tx -= 2 # x = x - 2\n",
        "\n",
        "*=\t        Multiply and assign\tx *= 2 # x = x * 2\n",
        "\n",
        "/=        \tDivide and assign\tx /= 2 # x = x / 2\n",
        "\n",
        "//=     \tFloor Div and assign\tx //= 2 # x = x // 2\n",
        "\n",
        "**=     \tExponent and assign\tx **= 3 # x = x ** 3"
      ],
      "metadata": {
        "id": "8UZLZFTEZrcy"
      }
    },
    {
      "cell_type": "code",
      "source": [
        "x = 20\n",
        "x += 5  # Equivalent to x = x + 5\n",
        "print(x)  # Output: 25"
      ],
      "metadata": {
        "colab": {
          "base_uri": "https://localhost:8080/"
        },
        "id": "dPnidKkqaNWl",
        "outputId": "0474d93c-3346-4e70-f306-77968240c785"
      },
      "execution_count": 29,
      "outputs": [
        {
          "output_type": "stream",
          "name": "stdout",
          "text": [
            "25\n"
          ]
        }
      ]
    },
    {
      "cell_type": "markdown",
      "source": [
        "4. Logical Operators\n",
        "These are used to combine conditional statements.\n"
      ],
      "metadata": {
        "id": "rnlHtIM9abTT"
      }
    },
    {
      "cell_type": "code",
      "source": [
        "\"\"\"\n",
        "Logical Operators\n",
        "These are used to combine conditional statements.\n",
        "\n",
        "Operator\t             Description\t                            Example\n",
        "and\t       Returns True if both conditions are true\t        (x > 5 and y < 10)\n",
        "or       \tReturns True if at least one condition is true\t  (x > 5 or y < 10)\n",
        "not     \tReverses the result\t                              not(x > 5)\n",
        "\"\"\"\n",
        "\n",
        "x = 6\n",
        "y = 7\n",
        "print(x > 3 and y < 15)  # Output: True\n",
        "print(not(x == 5))       # Output: True"
      ],
      "metadata": {
        "colab": {
          "base_uri": "https://localhost:8080/"
        },
        "id": "KGvlnc8BapaP",
        "outputId": "5d7de056-b3b4-450c-f233-8ae887316e2c"
      },
      "execution_count": 37,
      "outputs": [
        {
          "output_type": "stream",
          "name": "stdout",
          "text": [
            "True\n",
            "True\n"
          ]
        }
      ]
    },
    {
      "cell_type": "code",
      "source": [
        "\"\"\"\n",
        "5. Bitwise Operators\n",
        "These work on bits and perform bit-by-bit operations.\n",
        "\n",
        "Operator\tDescription\t                   Example\n",
        "&\t        Bitwise AND                  \t5 & 3 = 1\n",
        "`\t`    \tBitwise OR\n",
        "^\t        Bitwise XOR (Exclusive OR)\t 5 ^ 3 = 6\n",
        "~\t        Bitwise NOT (One's complement)\t~5 = -6\n",
        "<<\t        Left Shift                  \t5 << 1 = 10\n",
        ">>\t        Right Shift                  \t5 >> 1 = 2\n",
        "\"\"\"\n",
        "\n",
        "a = 5  # In binary: 101\n",
        "b = 3  # In binary: 011\n",
        "print(a & b)  # Output: 1 (001 in binary)\n",
        "print(a | b)  # Output: 7 (111 in binary)"
      ],
      "metadata": {
        "colab": {
          "base_uri": "https://localhost:8080/"
        },
        "id": "5ptTNrZ6bd4x",
        "outputId": "064344b1-a803-4e9d-a6e5-66f47b081086"
      },
      "execution_count": 38,
      "outputs": [
        {
          "output_type": "stream",
          "name": "stdout",
          "text": [
            "1\n",
            "7\n"
          ]
        }
      ]
    },
    {
      "cell_type": "code",
      "source": [
        "\"\"\"\n",
        "6.Identity Operators\n",
        "These are used to compare objects' memory locations.\n",
        "\n",
        "Operator\t           Description\t                                   Example\n",
        "is\t        Returns True if both variables are the same object\t      x is y\n",
        "is not\t    Returns True if both variables are not the same object\t  x is not y\n",
        "Example:\n",
        "x = [1, 2, 3]\n",
        "y = x\n",
        "print(x is y)  # Output: True (same object)\n",
        "z = [1, 2, 3]\n",
        "print(x is z)  # Output: False (different objects, even though content is the same)\n",
        "\"\"\"\n",
        "\n",
        "x = [1, 2, 3]\n",
        "y = x\n",
        "print(x is y)  # Output: True (same object)\n",
        "z = [1, 2, 3]\n",
        "print(x is z)  # Output: False (different objects, even though content is the same)"
      ],
      "metadata": {
        "colab": {
          "base_uri": "https://localhost:8080/"
        },
        "id": "nvWRaSVlcaKy",
        "outputId": "afd18146-8a25-4fad-9ebf-a33f18ccb885"
      },
      "execution_count": 39,
      "outputs": [
        {
          "output_type": "stream",
          "name": "stdout",
          "text": [
            "True\n",
            "False\n"
          ]
        }
      ]
    },
    {
      "cell_type": "code",
      "source": [
        "\"\"\"\n",
        "7.Membership Operators\n",
        "These are used to test if a sequence contains an element.\n",
        "\n",
        "Operator\t       Description\t                                       Example\n",
        "in       \tReturns True if a value is present in a sequence      \t5 in [1, 2, 3, 5]\n",
        "not in    Returns True if a value is not present in a sequence\t10 not in [1, 2, 3, 5]\n",
        "\"\"\"\n",
        "\n",
        "fruits = ['apple', 'banana', 'cherry']\n",
        "print('banana' in fruits)  # Output: True\n",
        "print('pineapple' not in fruits)  # Output: True\n",
        "#These different types of operators allow developers to write powerful and efficient Python programs,\n",
        "#handling everything from arithmetic operations to complex logical expressions."
      ],
      "metadata": {
        "colab": {
          "base_uri": "https://localhost:8080/"
        },
        "id": "CxDtAP47c-_s",
        "outputId": "645920fd-0c26-4f52-8baf-b9f294e25723"
      },
      "execution_count": 41,
      "outputs": [
        {
          "output_type": "stream",
          "name": "stdout",
          "text": [
            "True\n",
            "True\n"
          ]
        }
      ]
    },
    {
      "cell_type": "markdown",
      "source": [
        "**5.Explain the concept of type casting in python with examples?**\n",
        "\n",
        "\n",
        "In Python type casting (or type conversion) is the process of converting a value from one data type to another. This is essential when performing operations that require a specific data type.\n",
        "\n",
        "**Implicit Type Casting:**\n",
        "Python often performs type casting automatically to prevent data loss during operations. This is known as implicit type casting.\n"
      ],
      "metadata": {
        "id": "M6dIxjcWdtzv"
      }
    },
    {
      "cell_type": "code",
      "source": [
        "integer_number = 123\n",
        "float_number = 1.23\n",
        "result = integer_number + float_number\n",
        "print(result)  # Output: 124.23\n",
        "print(type(result))  # Output: <class 'float'>"
      ],
      "metadata": {
        "colab": {
          "base_uri": "https://localhost:8080/"
        },
        "id": "eU1anjpTeQmz",
        "outputId": "a62aaee6-40ff-4e43-ccd8-86ef9f15d044"
      },
      "execution_count": 42,
      "outputs": [
        {
          "output_type": "stream",
          "name": "stdout",
          "text": [
            "124.23\n",
            "<class 'float'>\n"
          ]
        }
      ]
    },
    {
      "cell_type": "markdown",
      "source": [
        "**Explicit Type Casting:**\n",
        "When implicit conversion isn't possible or doesn't yield the desired result, you can perform explicit type casting using built-in functions:\n",
        "\n",
        "int() – converts a value to an integer\n",
        "\n",
        "float() – converts a value to a float\n",
        "\n",
        "str() – converts a value to a string\n",
        "\n",
        "bool() – converts a value to a boolean"
      ],
      "metadata": {
        "id": "5qrB5LqKeYgW"
      }
    },
    {
      "cell_type": "code",
      "source": [
        "#Converting a String to an Integer:\n",
        "\n",
        "num_str = \"123\"\n",
        "num_int = int(num_str)\n",
        "print(num_int)  # Output: 123\n",
        "print(type(num_int))  # Output: <class 'int'>\n",
        "\n",
        "#Converting a Float to an Integer:\n",
        "\n",
        "num_float = 3.7\n",
        "num_int = int(num_float)\n",
        "print(num_int)  # Output: 3\n",
        "print(type(num_int))  # Output: <class 'int'>\n",
        "\n",
        "#Converting an Integer to a String:\n",
        "\n",
        "num_int = 456\n",
        "num_str = str(num_int)\n",
        "print(num_str)  # Output: '456'\n",
        "print(type(num_str))  # Output: <class 'str'>\n",
        "\n",
        "#Converting a String to a Float:\n",
        "\n",
        "num_str = \"5.7\"\n",
        "num_float = float(num_str)\n",
        "print(num_float)  # Output: 5.7\n",
        "print(type(num_float))  # Output"
      ],
      "metadata": {
        "colab": {
          "base_uri": "https://localhost:8080/"
        },
        "id": "zwd-DGFCefcf",
        "outputId": "0b5b1e8a-b784-4712-fa71-b14663a69c46"
      },
      "execution_count": 48,
      "outputs": [
        {
          "output_type": "stream",
          "name": "stdout",
          "text": [
            "123\n",
            "<class 'int'>\n",
            "3\n",
            "<class 'int'>\n",
            "456\n",
            "<class 'str'>\n",
            "5.7\n",
            "<class 'float'>\n"
          ]
        }
      ]
    },
    {
      "cell_type": "markdown",
      "source": [
        "**6.How do conditional statements work in python with example?**\n",
        "\n"
      ],
      "metadata": {
        "id": "Q9MqgurLhNu6"
      }
    },
    {
      "cell_type": "code",
      "source": [
        "\"\"\"Conditional statements is a mechanism in python it execute statements based on the conditions .The condition is evaluated as either True or False, and depending on the result, different blocks of code can be executed.\n",
        "Types of Conditional Statements\n",
        "1)if : if statements executes if the condition is true\"\"\"\n",
        "\n",
        "x = 15\n",
        "if x > 5:\n",
        "    print(\"x is greater than 5\")\n",
        "#output:x is greater than 5\n",
        "\n",
        "\"\"\"2)else:excecutes if the first condition is false\"\"\"\n",
        "\n",
        "x = 4\n",
        "if x > 5:\n",
        "    print(\"x is greater than 5\")\n",
        "else:\n",
        "    print(\"x is less than or equal to 5\")\n",
        "#output:x is less than or equal to 5\n",
        "\n",
        "\"\"\"3)elif:used to check multiple conditions if the first condition is false\"\"\"\n",
        "\n",
        "x = 10\n",
        "if x > 10:\n",
        "    print(\"x is greater than 10\")\n",
        "elif x == 10:\n",
        "    print(\"x is equal to 10\")\n",
        "else:\n",
        "    print(\"x is less than 10\")\n",
        "#output:x is equal to 10"
      ],
      "metadata": {
        "colab": {
          "base_uri": "https://localhost:8080/"
        },
        "id": "wiZDTk4xhWAp",
        "outputId": "aa844916-0a2c-440d-cd27-c004e84481c6"
      },
      "execution_count": 71,
      "outputs": [
        {
          "output_type": "stream",
          "name": "stdout",
          "text": [
            "x is greater than 5\n",
            "x is less than or equal to 5\n",
            "x is equal to 10\n"
          ]
        }
      ]
    },
    {
      "cell_type": "markdown",
      "source": [
        "**7.Describe the diffeent types of loops in Python and their  use cases with examples?**"
      ],
      "metadata": {
        "id": "CreptA67jhAP"
      }
    },
    {
      "cell_type": "code",
      "source": [
        "\"\"\"\n",
        "Python has two primary types of loops: for loops and while loops. These loops allow you to repeat a block of code multiple times based on specific conditions or iterations.\n",
        "\n",
        "1. for Loop\n",
        "The for loop is used for iterating over a sequence (like a list, tuple, dictionary, set, or string) or a range of numbers. The loop will execute the block of code for each item in the sequence.\n",
        "\n",
        "Use Case:\n",
        "When you know the number of iterations in advance (i.e., when you want to iterate over a list, string, or range).\"\"\"\n",
        "#Syntax:\n",
        "\n",
        "\n",
        "for item in sequence:\n",
        "    # Code block to execute\n",
        "#Example 1: Iterating over a list\n",
        "\n",
        " fruits = [\"apple\", \"banana\", \"cherry\"]\n",
        "for fruit in fruits:\n",
        "    print(fruit)\n",
        "#Output:\n",
        "#Python has two primary types of loops: for loops and while loops. These loops allow you to repeat a block of code multiple times based on specific conditions or iterations.\n",
        "\n",
        "\"\"\"1. for Loop\n",
        "The for loop is used for iterating over a sequence (like a list, tuple, dictionary, set, or string) or a range of numbers. The loop will execute the block of code for each item in the sequence.\n",
        "\n",
        "Use Case:\n",
        "When you know the number of iterations in advance (i.e., when you want to iterate over a list, string, or range).\n",
        "Syntax:\"\"\"\n",
        "\n",
        "for item in sequence:\n",
        "    # Code block to execute\n",
        "#Example 1: Iterating over a list\n",
        "\n",
        "  fruits =[\"apple\", \"banana\", \"cherry\"]\n",
        "for fruit in fruits:\n",
        "      print(fruit)\n",
        "#Output:\n",
        "#apple\n",
        "#banana\n",
        "#cherry\n",
        "#Example 2: Using range() to iterate a certain number of times\n",
        "python\n",
        "\n",
        "for i in range(5):\n",
        "    print(i)\n",
        "# Output:\n",
        "\n",
        "0\n",
        "1\n",
        "2\n",
        "3\n",
        "4\n",
        "\n",
        "\"\"\"2. while Loop\n",
        "The while loop will execute as long as the condition is True. It is often used when the number of iterations is not known in advance, and you want to repeat the loop until a specific condition changes.\n",
        "\n",
        "Use Case:\n",
        "When you do not know the number of iterations in advance (i.e., repeating an action until a condition is met).\n",
        "Syntax:\"\"\"\n",
        "\n",
        "while condition:\n",
        "    # Code block to execute\n",
        "#Example 1: Basic while loop\n",
        " i = 1\n",
        "while i <= 5:\n",
        "    print(i)\n",
        "    i += 1\n",
        "#Output:\n",
        "\n",
        "1\n",
        "2\n",
        "3\n",
        "4\n",
        "5\n",
        "\n",
        "#Example 2: Using range() to iterate a certain number of times\n",
        "\n",
        "\n",
        "for i in range(5):\n",
        "    print(i)\n",
        "\n",
        "#Output:\n",
        "0\n",
        "1\n",
        "2\n",
        "3\n",
        "4\n",
        "\n",
        "\"\"\"2. while Loop\n",
        "The while loop will execute as long as the condition is True. It is often used when the number of iterations is not known in advance, and you want to repeat the loop until a specific condition changes.\n",
        "\n",
        "Use Case:\n",
        "When you do not know the number of iterations in advance (i.e., repeating an action until a condition is met).\n",
        "Syntax:\"\"\"\n",
        "\n",
        "while condition:\n",
        "    # Code block to execute\n",
        "#Example 1: Basic while loop\n",
        " i = 1\n",
        "while i <= 5:\n",
        "    print(i)\n",
        "    i += 1\n",
        "\n",
        "#Output:\n",
        "1\n",
        "2\n",
        "3\n",
        "4\n",
        "5"
      ],
      "metadata": {
        "id": "CHYW9c1ypcko"
      },
      "execution_count": null,
      "outputs": []
    }
  ]
}